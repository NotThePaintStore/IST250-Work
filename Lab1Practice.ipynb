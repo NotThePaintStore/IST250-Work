{
  "nbformat": 4,
  "nbformat_minor": 0,
  "metadata": {
    "colab": {
      "name": "Lab1Practice.ipynb",
      "provenance": [],
      "authorship_tag": "ABX9TyMW5cnZshUhfP58Xtbrkqze",
      "include_colab_link": true
    },
    "kernelspec": {
      "name": "python3",
      "display_name": "Python 3"
    }
  },
  "cells": [
    {
      "cell_type": "markdown",
      "metadata": {
        "id": "view-in-github",
        "colab_type": "text"
      },
      "source": [
        "<a href=\"https://colab.research.google.com/github/NotThePaintStore/IST250-Work/blob/master/Lab1Practice.ipynb\" target=\"_parent\"><img src=\"https://colab.research.google.com/assets/colab-badge.svg\" alt=\"Open In Colab\"/></a>"
      ]
    },
    {
      "cell_type": "markdown",
      "metadata": {
        "id": "LsLG0QrWvGyD",
        "colab_type": "text"
      },
      "source": [
        "# Do you like using Jupyter Notebooks?"
      ]
    },
    {
      "cell_type": "markdown",
      "metadata": {
        "id": "Pr73kbKRvTR6",
        "colab_type": "text"
      },
      "source": [
        "2-sentence response"
      ]
    },
    {
      "cell_type": "markdown",
      "metadata": {
        "id": "9y0SheBdvT3e",
        "colab_type": "text"
      },
      "source": [
        "## What do oyu want to learn more about in Jupyter Notebooks?"
      ]
    },
    {
      "cell_type": "markdown",
      "metadata": {
        "colab_type": "text",
        "id": "6MMx2aP7vkUm"
      },
      "source": [
        "2-sentence response"
      ]
    },
    {
      "cell_type": "markdown",
      "metadata": {
        "id": "GWqJY7arwWUn",
        "colab_type": "text"
      },
      "source": [
        "![My friend Blake](https://raw.githubusercontent.com/NotThePaintStore/IST250-Work/master/img/Blake_Dramatic.png)"
      ]
    }
  ]
}